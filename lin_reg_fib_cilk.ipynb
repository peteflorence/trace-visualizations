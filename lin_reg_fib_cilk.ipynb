{
 "cells": [
  {
   "cell_type": "code",
   "execution_count": 25,
   "metadata": {
    "collapsed": false
   },
   "outputs": [
    {
     "name": "stdout",
     "output_type": "stream",
     "text": [
      "[0.000101, 0.000262, 0.001378, 0.008645, 0.058532, 0.406886, 2.741038, 8.8e-05, 0.00016, 0.000705, 0.004208, 0.028736, 0.20579, 1.335098, 8.5e-05, 0.000152, 0.000649, 0.003802, 0.026097, 0.177489, 1.211473]\n",
      "[13439, 92001, 630473, 4321215, 29617937, 203004249, 1391411711, 12918, 88430, 605997, 4153454, 28468086, 195123053, 1337393190, 12842, 87909, 602426, 4128978, 28300325, 193973202, 1329511994]\n",
      "[1220, 8362, 57314, 392836, 2692538, 18454930, 126491972, 1220, 8362, 57314, 392836, 2692538, 18454930, 126491972, 1220, 8362, 57314, 392836, 2692538, 18454930, 126491972]\n"
     ]
    }
   ],
   "source": [
    "# data\n",
    "\n",
    "T = [0.000101,\n",
    "0.000262,\n",
    "0.001378,\n",
    "0.008645,\n",
    "0.058532,\n",
    "0.406886,\n",
    "2.741038,\n",
    "0.000088,\n",
    "0.000160,\n",
    "0.000705,\n",
    "0.004208,\n",
    "0.028736,\n",
    "0.205790,\n",
    "1.335098,\n",
    "0.000085,\n",
    "0.000152,\n",
    "0.000649,\n",
    "0.003802,\n",
    "0.026097,\n",
    "0.177489,\n",
    "1.211473]\n",
    "\n",
    "I = [13439     ,\n",
    "92001     ,\n",
    "630473    ,\n",
    "4321215   ,\n",
    "29617937  ,\n",
    "203004249 ,\n",
    "1391411711,\n",
    "12918     ,\n",
    "88430     ,\n",
    "605997    ,\n",
    "4153454   ,\n",
    "28468086  ,\n",
    "195123053 ,\n",
    "1337393190,\n",
    "12842     ,\n",
    "87909     ,\n",
    "602426    ,\n",
    "4128978   ,\n",
    "28300325  ,\n",
    "193973202 ,\n",
    "1329511994]\n",
    "\n",
    "F = [1220     ,\n",
    "8362     ,\n",
    "57314    ,\n",
    "392836   ,\n",
    "2692538  ,\n",
    "18454930 ,\n",
    "126491972,\n",
    "1220     ,\n",
    "8362     ,\n",
    "57314    ,\n",
    "392836   ,\n",
    "2692538  ,\n",
    "18454930 ,\n",
    "126491972,\n",
    "1220     ,\n",
    "8362     ,\n",
    "57314    ,\n",
    "392836   ,\n",
    "2692538  ,\n",
    "18454930 ,\n",
    "126491972]\n",
    "\n",
    "S = [609,\n",
    "4180,\n",
    "28656,\n",
    "196417,\n",
    "1346268,\n",
    "9227464,\n",
    "63245985,\n",
    "88,\n",
    "609,\n",
    "4180,\n",
    "28656,\n",
    "196417,\n",
    "1346268,\n",
    "9227464,\n",
    "12,\n",
    "88,\n",
    "609,\n",
    "4180,\n",
    "28656,\n",
    "196417,\n",
    "1346268]\n",
    "\n",
    "print T\n",
    "print I\n",
    "print F\n",
    "for i,v in enumerate(I):\n",
    "    I[i] = I[i] + F[i]"
   ]
  },
  {
   "cell_type": "code",
   "execution_count": 26,
   "metadata": {
    "collapsed": false
   },
   "outputs": [
    {
     "data": {
      "image/png": "[encoded data removed]",
      "text/plain": [
       "<matplotlib.figure.Figure at 0x10de79110>"
      ]
     },
     "metadata": {},
     "output_type": "display_data"
    },
    {
     "data": {
      "image/png": "[encoded data removed]",
      "text/plain": [
       "<matplotlib.figure.Figure at 0x10e696e50>"
      ]
     },
     "metadata": {},
     "output_type": "display_data"
    }
   ],
   "source": [
    "import numpy as np\n",
    "import matplotlib.pyplot as plt\n",
    "%matplotlib inline\n",
    "\n",
    "plt.plot(I,T, 'x')\n",
    "plt.show()\n",
    "plt.plot(S,T, 'x')\n",
    "plt.show()"
   ]
  },
  {
   "cell_type": "code",
   "execution_count": 27,
   "metadata": {
    "collapsed": false
   },
   "outputs": [
    {
     "name": "stdout",
     "output_type": "stream",
     "text": [
      "[-6, -5, -10, -5, -8, -3, -6, -8, -8]\n",
      "[[-4.95, -4.55, -10.96, -1.08, -6.52, -0.81, -7.01, -4.46, -11.54], [-5.87, -4.52, -11.64, -3.36, -7.45, -2.36, -7.33, -7.65, -10.03], [-0.76, -0.71, -0.98, 0.75, -0.86, -0.5, -0.33, -0.94, -1.03], [14.73, 13.74, 15.49, 24.72, 16.59, 22.44, 13.93, 11.4, 18.18], [4.02, 4.47, 4.18, 4.96, 4.29, 4.81, 4.32, 4.43, 4.28], [0.2, 0.16, 0.19, 0.16, 0.1, 0.15, 0.21, 0.16, 0.21], [0.45, 0.5, 0.53, 0.6, 0.48, 0.53, 0.5, 0.49, 0.55]]\n",
      "[[ -4.95  -5.87  -0.76  14.73   4.02   0.2    0.45   1.  ]\n",
      " [ -4.55  -4.52  -0.71  13.74   4.47   0.16   0.5    1.  ]\n",
      " [-10.96 -11.64  -0.98  15.49   4.18   0.19   0.53   1.  ]\n",
      " [ -1.08  -3.36   0.75  24.72   4.96   0.16   0.6    1.  ]\n",
      " [ -6.52  -7.45  -0.86  16.59   4.29   0.1    0.48   1.  ]\n",
      " [ -0.81  -2.36  -0.5   22.44   4.81   0.15   0.53   1.  ]\n",
      " [ -7.01  -7.33  -0.33  13.93   4.32   0.21   0.5    1.  ]\n",
      " [ -4.46  -7.65  -0.94  11.4    4.43   0.16   0.49   1.  ]\n",
      " [-11.54 -10.03  -1.03  18.18   4.28   0.21   0.55   1.  ]]\n",
      "[ -0.49104607   0.83271938   0.0860167    0.1326091    6.85681762\n",
      "  22.98163883 -41.08437805 -19.08085066]\n",
      "[ -5.97751163  -5.06465759 -10.16873217  -4.96959788  -7.96356915\n",
      "  -3.06176313  -6.01818435  -7.90878145  -7.86720264]\n"
     ]
    }
   ],
   "source": [
    "# example from: https://stackoverflow.com/questions/11479064/multiple-linear-regression-in-python\n",
    "y = [-6,-5,-10,-5,-8,-3,-6,-8,-8]\n",
    "x = [[-4.95,-4.55,-10.96,-1.08,-6.52,-0.81,-7.01,-4.46,-11.54],[-5.87,-4.52,-11.64,-3.36,-7.45,-2.36,-7.33,-7.65,-10.03],[-0.76,-0.71,-0.98,0.75,-0.86,-0.50,-0.33,-0.94,-1.03],[14.73,13.74,15.49,24.72,16.59,22.44,13.93,11.40,18.18],[4.02,4.47,4.18,4.96,4.29,4.81,4.32,4.43,4.28],[0.20,0.16,0.19,0.16,0.10,0.15,0.21,0.16,0.21],[0.45,0.50,0.53,0.60,0.48,0.53,0.50,0.49,0.55]]\n",
    "X = np.column_stack(x+[[1]*len(x[0])])\n",
    "print y\n",
    "print x\n",
    "print X\n",
    "beta_hat = np.linalg.lstsq(X,y)[0]\n",
    "print beta_hat\n",
    "print np.dot(X,beta_hat)"
   ]
  },
  {
   "cell_type": "code",
   "execution_count": 28,
   "metadata": {
    "collapsed": false
   },
   "outputs": [
    {
     "name": "stdout",
     "output_type": "stream",
     "text": [
      "[[  1.46590000e+04   6.09000000e+02]\n",
      " [  1.00363000e+05   4.18000000e+03]\n",
      " [  6.87787000e+05   2.86560000e+04]\n",
      " [  4.71405100e+06   1.96417000e+05]\n",
      " [  3.23104750e+07   1.34626800e+06]\n",
      " [  2.21459179e+08   9.22746400e+06]\n",
      " [  1.51790368e+09   6.32459850e+07]\n",
      " [  1.41380000e+04   8.80000000e+01]\n",
      " [  9.67920000e+04   6.09000000e+02]\n",
      " [  6.63311000e+05   4.18000000e+03]\n",
      " [  4.54629000e+06   2.86560000e+04]\n",
      " [  3.11606240e+07   1.96417000e+05]\n",
      " [  2.13577983e+08   1.34626800e+06]\n",
      " [  1.46388516e+09   9.22746400e+06]\n",
      " [  1.40620000e+04   1.20000000e+01]\n",
      " [  9.62710000e+04   8.80000000e+01]\n",
      " [  6.59740000e+05   6.09000000e+02]\n",
      " [  4.52181400e+06   4.18000000e+03]\n",
      " [  3.09928630e+07   2.86560000e+04]\n",
      " [  2.12428132e+08   1.96417000e+05]\n",
      " [  1.45600397e+09   1.34626800e+06]]\n",
      "[0.000101, 0.000262, 0.001378, 0.008645, 0.058532, 0.406886, 2.741038, 8.8e-05, 0.00016, 0.000705, 0.004208, 0.028736, 0.20579, 1.335098, 8.5e-05, 0.000152, 0.000649, 0.003802, 0.026097, 0.177489, 1.211473]\n",
      "[  7.86036524e-10   2.44112513e-08]\n"
     ]
    }
   ],
   "source": [
    "for i,v in enumerate(I):\n",
    "    I[i] = float(v)\n",
    "for i,v in enumerate(S):\n",
    "    S[i] = float(v)\n",
    "for i,v in enumerate(T):\n",
    "    T[i] = float(v)\n",
    "    \n",
    "    \n",
    "x = [I,S]\n",
    "X = np.column_stack(x)\n",
    "print X\n",
    "beta_hat = np.linalg.lstsq(X,T)[0]\n",
    "print T\n",
    "print beta_hat"
   ]
  },
  {
   "cell_type": "code",
   "execution_count": 29,
   "metadata": {
    "collapsed": false
   },
   "outputs": [
    {
     "name": "stdout",
     "output_type": "stream",
     "text": [
      "[  2.63889615e-05   1.80928014e-04   1.24015452e-03   8.50020101e-03\n",
      "   5.82612999e-02   3.99328946e-01   2.73704137e+00   1.32611745e-05\n",
      "   9.09484993e-05   6.23425704e-04   4.27307881e-03   2.92881733e-02\n",
      "   2.00744182e-01   1.37592115e+00   1.13461806e-05   7.78207124e-05\n",
      "   5.33446189e-04   3.65634999e-03   2.50610511e-02   1.71771055e-01\n",
      "   1.17733638e+00]\n"
     ]
    },
    {
     "data": {
      "text/plain": [
       "[<matplotlib.lines.Line2D at 0x10e515190>]"
      ]
     },
     "execution_count": 29,
     "metadata": {},
     "output_type": "execute_result"
    },
    {
     "data": {
      "image/png": "[encoded data removed]",
      "text/plain": [
       "<matplotlib.figure.Figure at 0x10d71da90>"
      ]
     },
     "metadata": {},
     "output_type": "display_data"
    }
   ],
   "source": [
    "preds = np.dot(X,beta_hat)\n",
    "print preds\n",
    "plt.plot(preds)\n",
    "plt.plot(T)"
   ]
  },
  {
   "cell_type": "code",
   "execution_count": 30,
   "metadata": {
    "collapsed": false
   },
   "outputs": [
    {
     "name": "stdout",
     "output_type": "stream",
     "text": [
      "0.0415444436865\n",
      "0.0416488148023\n",
      "0.0416640616935\n",
      "0.0416662865972\n",
      "0.0416666112151\n",
      "0.0416666585764\n",
      "0.0416666654863\n",
      "0.00622435988117\n",
      "0.00629184230102\n",
      "0.00630171970614\n",
      "0.00630316147892\n",
      "0.00630337184519\n",
      "0.00630340253752\n",
      "0.00630340701547\n",
      "0.000853363675153\n",
      "0.00091408627728\n",
      "0.000923090914603\n",
      "0.000924407770864\n",
      "0.000924599963546\n",
      "0.000924628005485\n",
      "0.000924632096778\n"
     ]
    }
   ],
   "source": [
    "for i,v in enumerate(F):\n",
    "    print S[i]*1.0/I[i]"
   ]
  }
 ],
 "metadata": {
  "kernelspec": {
   "display_name": "Python 2",
   "language": "python",
   "name": "python2"
  },
  "language_info": {
   "codemirror_mode": {
    "name": "ipython",
    "version": 2
   },
   "file_extension": ".py",
   "mimetype": "text/x-python",
   "name": "python",
   "nbconvert_exporter": "python",
   "pygments_lexer": "ipython2",
   "version": "2.7.11"
  }
 },
 "nbformat": 4,
 "nbformat_minor": 0
}
