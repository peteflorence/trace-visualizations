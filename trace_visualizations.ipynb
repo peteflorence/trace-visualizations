{
 "cells": [
  {
   "cell_type": "code",
   "execution_count": 1,
   "metadata": {
    "collapsed": true
   },
   "outputs": [],
   "source": [
    "trace_file = \"./trace_c3_v0\""
   ]
  },
  {
   "cell_type": "code",
   "execution_count": 2,
   "metadata": {
    "collapsed": false
   },
   "outputs": [
    {
     "name": "stdout",
     "output_type": "stream",
     "text": [
      "5772\n"
     ]
    }
   ],
   "source": [
    "with open(trace_file) as f:\n",
    "    content = f.readlines()\n",
    "# you may also want to remove whitespace characters like `\\n` at the end of each line\n",
    "content = [x.strip() for x in content] \n",
    "\n",
    "print len(content)"
   ]
  },
  {
   "cell_type": "code",
   "execution_count": 3,
   "metadata": {
    "collapsed": false
   },
   "outputs": [],
   "source": [
    "num_header_lines = 4\n",
    "content = content[num_header_lines:]\n",
    "\n",
    "def allocation(v):\n",
    "    return (v[0] == 'a')\n",
    "\n",
    "def free(v):\n",
    "    return (v[0] == 'f')\n",
    "\n",
    "allocations_dict = dict()\n",
    "allocations_indices = dict()\n",
    "freed_dict = dict()\n",
    "\n",
    "for i, v in enumerate(content):\n",
    "    v = v.split(\" \")\n",
    "    if allocation(v):\n",
    "        allocations_indices[v[1]] = v[2]\n",
    "        if v[2] not in allocations_dict:\n",
    "            allocations_dict[v[2]] = 1\n",
    "        else:\n",
    "            allocations_dict[v[2]] += 1\n",
    "    elif free(v):\n",
    "        if v[1] not in freed_dict:\n",
    "            freed_dict[v[1]] = 'freed'\n",
    "\n",
    "    "
   ]
  },
  {
   "cell_type": "code",
   "execution_count": 4,
   "metadata": {
    "collapsed": false
   },
   "outputs": [
    {
     "name": "stdout",
     "output_type": "stream",
     "text": [
      "{'23109': 1, '17454': 1, '3805': 1, '17769': 1, '19474': 1, '7019': 1, '3492': 1, '21640': 1, '19836': 1, '16586': 1, '3737': 1, '12544': 1, '64': 940, '10382': 1, '24638': 1, '23342': 1, '23300': 1, '10122': 1, '22666': 1, '21580': 1, '2524': 1, '11269': 1, '1717': 1, '5450': 1, '26800': 1, '11876': 1, '30528': 1, '30354': 1, '3997': 1, '6239': 1, '11852': 1, '30253': 1, '30307': 1, '18441': 1, '448': 936, '18990': 1, '17706': 1, '12104': 1, '11665': 1, '23219': 1, '14711': 1, '17686': 1, '21096': 1, '26734': 1, '29307': 1, '5536': 1, '9001': 1, '13727': 1, '15322': 1, '24889': 1, '22741': 1, '20476': 1, '19949': 1, '13596': 1, '24934': 1, '5248': 1, '30880': 1, '18803': 1, '27508': 1, '18844': 1, '23804': 1, '27751': 1, '16158': 1, '17966': 1, '16834': 1, '26382': 1, '9698': 1, '28042': 1, '512': 940, '18925': 1, '16340': 1}\n"
     ]
    }
   ],
   "source": [
    "print allocations_dict"
   ]
  },
  {
   "cell_type": "code",
   "execution_count": 5,
   "metadata": {
    "collapsed": false
   },
   "outputs": [],
   "source": [
    "# convert each key to ints, so can sort\n",
    "# for some reason can't start out with ints, and increment the values.  this works.\n",
    "\n",
    "for key in allocations_dict:\n",
    "    val = allocations_dict[key]\n",
    "    del allocations_dict[key]\n",
    "    allocations_dict[int(key)] = val\n",
    "\n",
    "freed_dict_ints = dict()\n",
    "for key in freed_dict:\n",
    "    val = freed_dict[key]\n",
    "    freed_dict_ints[int(key)] = val\n",
    "    "
   ]
  },
  {
   "cell_type": "code",
   "execution_count": 6,
   "metadata": {
    "collapsed": false
   },
   "outputs": [],
   "source": [
    "prev_val = -1\n",
    "for i in sorted(freed_dict_ints):\n",
    "    if (prev_val == -1):\n",
    "        prev_val = i\n",
    "        continue\n",
    "    if (prev_val != i - 1):\n",
    "        print \"FOUND A MISSING ONE\", prev_val  \n",
    "    prev_val = i"
   ]
  },
  {
   "cell_type": "code",
   "execution_count": 7,
   "metadata": {
    "collapsed": false
   },
   "outputs": [],
   "source": [
    "allocation_amounts = []\n",
    "allocation_counts = []\n",
    "allocation_totals = []\n",
    "\n",
    "for key in sorted(allocations_dict.iterkeys()):\n",
    "    allocation_amounts.append(key)\n",
    "    allocation_counts.append(allocations_dict[key])\n",
    "    allocation_totals.append(allocations_dict[key]*key)\n",
    "    "
   ]
  },
  {
   "cell_type": "code",
   "execution_count": 8,
   "metadata": {
    "collapsed": false
   },
   "outputs": [
    {
     "data": {
      "image/png": "[encoded data removed]",
      "text/plain": [
       "<matplotlib.figure.Figure at 0x10f2e6190>"
      ]
     },
     "metadata": {},
     "output_type": "display_data"
    }
   ],
   "source": [
    "import numpy as np\n",
    "import matplotlib.pyplot as plt\n",
    "%matplotlib inline\n",
    "\n",
    "N = len(allocation_amounts)\n",
    "\n",
    "ind = np.arange(N)  # the x locations for the groups\n",
    "width = 1.0       # the width of the bars\n",
    "\n",
    "fig, ax = plt.subplots()\n",
    "rects1 = ax.bar(allocation_amounts, allocation_counts, width, color='r')\n",
    "\n",
    "# num times allocated vs. allocation amount"
   ]
  },
  {
   "cell_type": "code",
   "execution_count": 9,
   "metadata": {
    "collapsed": false
   },
   "outputs": [
    {
     "data": {
      "image/png": "[encoded data removed]",
      "text/plain": [
       "<matplotlib.figure.Figure at 0x10f22fad0>"
      ]
     },
     "metadata": {},
     "output_type": "display_data"
    }
   ],
   "source": [
    "ind = np.arange(N)  # the x locations for the groups\n",
    "width = 1.0       # the width of the bars\n",
    "\n",
    "fig, ax = plt.subplots()\n",
    "rects1 = ax.bar(allocation_amounts, allocation_totals, width, color='r')\n",
    "\n",
    "# memory size vs. allocation amount"
   ]
  },
  {
   "cell_type": "code",
   "execution_count": 10,
   "metadata": {
    "collapsed": false
   },
   "outputs": [
    {
     "name": "stdout",
     "output_type": "stream",
     "text": [
      "{512: 940, 5248: 1, 23300: 1, 11269: 1, 21640: 1, 18441: 1, 22666: 1, 20476: 1, 10382: 1, 18925: 1, 11665: 1, 19474: 1, 448: 936, 18990: 1, 17686: 1, 3737: 1, 18844: 1, 17966: 1, 13596: 1, 3997: 1, 16158: 1, 13727: 1, 30880: 1, 3492: 1, 9001: 1, 17706: 1, 30253: 1, 17454: 1, 26800: 1, 23219: 1, 1717: 1, 24889: 1, 19949: 1, 28042: 1, 24638: 1, 64: 940, 5536: 1, 16834: 1, 23342: 1, 23109: 1, 12104: 1, 21580: 1, 16586: 1, 11852: 1, 9698: 1, 5450: 1, 12544: 1, 16340: 1, 22741: 1, 15322: 1, 2524: 1, 3805: 1, 30528: 1, 6239: 1, 26382: 1, 30307: 1, 11876: 1, 24934: 1, 27751: 1, 21096: 1, 17769: 1, 7019: 1, 30354: 1, 26734: 1, 10122: 1, 18803: 1, 27508: 1, 14711: 1, 19836: 1, 29307: 1, 23804: 1}\n"
     ]
    },
    {
     "ename": "KeyError",
     "evalue": "'64'",
     "output_type": "error",
     "traceback": [
      "\u001b[0;31m---------------------------------------------------------------------------\u001b[0m",
      "\u001b[0;31mKeyError\u001b[0m                                  Traceback (most recent call last)",
      "\u001b[0;32m<ipython-input-10-bbfb1f11d8cc>\u001b[0m in \u001b[0;36m<module>\u001b[0;34m()\u001b[0m\n\u001b[1;32m     12\u001b[0m         \u001b[0mamount\u001b[0m \u001b[0;34m=\u001b[0m \u001b[0mallocations_indices\u001b[0m\u001b[0;34m[\u001b[0m\u001b[0mstr\u001b[0m\u001b[0;34m(\u001b[0m\u001b[0mkey\u001b[0m\u001b[0;34m)\u001b[0m\u001b[0;34m]\u001b[0m\u001b[0;34m\u001b[0m\u001b[0m\n\u001b[1;32m     13\u001b[0m         \u001b[0mleft_at_end_allocations_dict\u001b[0m\u001b[0;34m[\u001b[0m\u001b[0mint\u001b[0m\u001b[0;34m(\u001b[0m\u001b[0mamount\u001b[0m\u001b[0;34m)\u001b[0m\u001b[0;34m]\u001b[0m \u001b[0;34m-=\u001b[0m \u001b[0;36m1\u001b[0m\u001b[0;34m\u001b[0m\u001b[0m\n\u001b[0;32m---> 14\u001b[0;31m         \u001b[0;32mif\u001b[0m \u001b[0mleft_at_end_allocations_dict\u001b[0m\u001b[0;34m[\u001b[0m\u001b[0mamount\u001b[0m\u001b[0;34m]\u001b[0m \u001b[0;34m==\u001b[0m \u001b[0;36m0\u001b[0m\u001b[0;34m:\u001b[0m\u001b[0;34m\u001b[0m\u001b[0m\n\u001b[0m\u001b[1;32m     15\u001b[0m             \u001b[0;32mdel\u001b[0m \u001b[0mleft_at_end_allocations_dict\u001b[0m\u001b[0;34m[\u001b[0m\u001b[0mamount\u001b[0m\u001b[0;34m]\u001b[0m\u001b[0;34m\u001b[0m\u001b[0m\n\u001b[1;32m     16\u001b[0m \u001b[0;34m\u001b[0m\u001b[0m\n",
      "\u001b[0;31mKeyError\u001b[0m: '64'"
     ]
    }
   ],
   "source": [
    "# copy over dict\n",
    "left_at_end_allocations_dict = dict()\n",
    "for key in allocations_dict:\n",
    "    val = allocations_dict[key]\n",
    "    left_at_end_allocations_dict[key] = allocations_dict[key]\n",
    "\n",
    "print left_at_end_allocations_dict\n",
    "    \n",
    "# subtract\n",
    "for key in freed_dict_ints:\n",
    "    if str(key) in allocations_indices:\n",
    "        amount = allocations_indices[str(key)]\n",
    "        left_at_end_allocations_dict[int(amount)] -= 1\n",
    "        if left_at_end_allocations_dict[amount] == 0:\n",
    "            del left_at_end_allocations_dict[amount]\n",
    "        \n",
    "print left_at_end_allocations_dict"
   ]
  },
  {
   "cell_type": "code",
   "execution_count": null,
   "metadata": {
    "collapsed": true
   },
   "outputs": [],
   "source": []
  }
 ],
 "metadata": {
  "kernelspec": {
   "display_name": "Python 2",
   "language": "python",
   "name": "python2"
  },
  "language_info": {
   "codemirror_mode": {
    "name": "ipython",
    "version": 2
   },
   "file_extension": ".py",
   "mimetype": "text/x-python",
   "name": "python",
   "nbconvert_exporter": "python",
   "pygments_lexer": "ipython2",
   "version": "2.7.11"
  }
 },
 "nbformat": 4,
 "nbformat_minor": 0
}
