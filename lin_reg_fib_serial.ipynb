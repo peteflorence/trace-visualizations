{
 "cells": [
  {
   "cell_type": "code",
   "execution_count": 54,
   "metadata": {
    "collapsed": false
   },
   "outputs": [
    {
     "name": "stdout",
     "output_type": "stream",
     "text": [
      "[4e-06, 2.1e-05, 0.000148, 0.000984, 0.006737, 0.045374, 0.311624, 1e-06, 5e-06, 3.3e-05, 0.000222, 0.001541, 0.010506, 0.072498, 1e-06, 2e-06, 1e-05, 4.5e-05, 0.000321, 0.002147, 0.014454]\n",
      "[7959, 54382, 372570, 2553463, 17501526, 119957074, 822197847, 2563, 17397, 119071, 815955, 5592469, 38331183, 262725667, 607, 3987, 27157, 185967, 1274467, 8735157, 59871487]\n",
      "[1220, 8362, 57314, 392836, 2692538, 18454930, 126491972, 178, 1220, 8362, 57314, 392836, 2692538, 18454930, 26, 178, 1220, 8362, 57314, 392836, 2692538]\n"
     ]
    }
   ],
   "source": [
    "# data\n",
    "\n",
    "T = [0.000004,\n",
    "0.000021,\n",
    "0.000148,\n",
    "0.000984,\n",
    "0.006737,\n",
    "0.045374,\n",
    "0.311624,\n",
    "0.000001,\n",
    "0.000005,\n",
    "0.000033,\n",
    "0.000222,\n",
    "0.001541,\n",
    "0.010506,\n",
    "0.072498,\n",
    "0.000001,\n",
    "0.000002,\n",
    "0.000010,\n",
    "0.000045,\n",
    "0.000321,\n",
    "0.002147,\n",
    "0.014454]\n",
    "\n",
    "I = [7959,\n",
    "54382,\n",
    "372570,\n",
    "2553463,\n",
    "17501526,\n",
    "119957074,\n",
    "822197847,\n",
    "2563,\n",
    "17397,\n",
    "119071,\n",
    "815955,\n",
    "5592469,\n",
    "38331183,\n",
    "262725667,\n",
    "607,\n",
    "3987,\n",
    "27157,\n",
    "185967,\n",
    "1274467,\n",
    "8735157, \n",
    "59871487]\n",
    "\n",
    "F = [1220,\n",
    "8362,\n",
    "57314,\n",
    "392836,\n",
    "2692538,\n",
    "18454930,\n",
    "126491972,\n",
    "178,\n",
    "1220,\n",
    "8362,\n",
    "57314,\n",
    "392836,\n",
    "2692538,\n",
    "18454930,\n",
    "26,\n",
    "178,\n",
    "1220,\n",
    "8362,\n",
    "57314,\n",
    "392836,\n",
    "2692538]\n",
    "\n",
    "print T\n",
    "print I\n",
    "print F"
   ]
  },
  {
   "cell_type": "code",
   "execution_count": 55,
   "metadata": {
    "collapsed": false
   },
   "outputs": [
    {
     "data": {
      "image/png": "[encoded data removed]",
      "text/plain": [
       "<matplotlib.figure.Figure at 0x113c26050>"
      ]
     },
     "metadata": {},
     "output_type": "display_data"
    },
    {
     "data": {
      "image/png": "[encoded data removed]",
      "text/plain": [
       "<matplotlib.figure.Figure at 0x113a5e450>"
      ]
     },
     "metadata": {},
     "output_type": "display_data"
    }
   ],
   "source": [
    "import numpy as np\n",
    "import matplotlib.pyplot as plt\n",
    "%matplotlib inline\n",
    "\n",
    "plt.plot(I,T, 'x')\n",
    "plt.show()\n",
    "plt.plot(F,T, 'x')\n",
    "plt.show()"
   ]
  },
  {
   "cell_type": "code",
   "execution_count": 56,
   "metadata": {
    "collapsed": false
   },
   "outputs": [
    {
     "name": "stdout",
     "output_type": "stream",
     "text": [
      "[-6, -5, -10, -5, -8, -3, -6, -8, -8]\n",
      "[[-4.95, -4.55, -10.96, -1.08, -6.52, -0.81, -7.01, -4.46, -11.54], [-5.87, -4.52, -11.64, -3.36, -7.45, -2.36, -7.33, -7.65, -10.03], [-0.76, -0.71, -0.98, 0.75, -0.86, -0.5, -0.33, -0.94, -1.03], [14.73, 13.74, 15.49, 24.72, 16.59, 22.44, 13.93, 11.4, 18.18], [4.02, 4.47, 4.18, 4.96, 4.29, 4.81, 4.32, 4.43, 4.28], [0.2, 0.16, 0.19, 0.16, 0.1, 0.15, 0.21, 0.16, 0.21], [0.45, 0.5, 0.53, 0.6, 0.48, 0.53, 0.5, 0.49, 0.55]]\n",
      "[[ -4.95  -5.87  -0.76  14.73   4.02   0.2    0.45   1.  ]\n",
      " [ -4.55  -4.52  -0.71  13.74   4.47   0.16   0.5    1.  ]\n",
      " [-10.96 -11.64  -0.98  15.49   4.18   0.19   0.53   1.  ]\n",
      " [ -1.08  -3.36   0.75  24.72   4.96   0.16   0.6    1.  ]\n",
      " [ -6.52  -7.45  -0.86  16.59   4.29   0.1    0.48   1.  ]\n",
      " [ -0.81  -2.36  -0.5   22.44   4.81   0.15   0.53   1.  ]\n",
      " [ -7.01  -7.33  -0.33  13.93   4.32   0.21   0.5    1.  ]\n",
      " [ -4.46  -7.65  -0.94  11.4    4.43   0.16   0.49   1.  ]\n",
      " [-11.54 -10.03  -1.03  18.18   4.28   0.21   0.55   1.  ]]\n",
      "[ -0.49104607   0.83271938   0.0860167    0.1326091    6.85681762\n",
      "  22.98163883 -41.08437805 -19.08085066]\n",
      "[ -5.97751163  -5.06465759 -10.16873217  -4.96959788  -7.96356915\n",
      "  -3.06176313  -6.01818435  -7.90878145  -7.86720264]\n"
     ]
    }
   ],
   "source": [
    "# example from: https://stackoverflow.com/questions/11479064/multiple-linear-regression-in-python\n",
    "y = [-6,-5,-10,-5,-8,-3,-6,-8,-8]\n",
    "x = [[-4.95,-4.55,-10.96,-1.08,-6.52,-0.81,-7.01,-4.46,-11.54],[-5.87,-4.52,-11.64,-3.36,-7.45,-2.36,-7.33,-7.65,-10.03],[-0.76,-0.71,-0.98,0.75,-0.86,-0.50,-0.33,-0.94,-1.03],[14.73,13.74,15.49,24.72,16.59,22.44,13.93,11.40,18.18],[4.02,4.47,4.18,4.96,4.29,4.81,4.32,4.43,4.28],[0.20,0.16,0.19,0.16,0.10,0.15,0.21,0.16,0.21],[0.45,0.50,0.53,0.60,0.48,0.53,0.50,0.49,0.55]]\n",
    "X = np.column_stack(x+[[1]*len(x[0])])\n",
    "print y\n",
    "print x\n",
    "print X\n",
    "beta_hat = np.linalg.lstsq(X,y)[0]\n",
    "print beta_hat\n",
    "print np.dot(X,beta_hat)"
   ]
  },
  {
   "cell_type": "code",
   "execution_count": 57,
   "metadata": {
    "collapsed": false
   },
   "outputs": [
    {
     "name": "stdout",
     "output_type": "stream",
     "text": [
      "[[  7.95900000e+03   1.22000000e+03]\n",
      " [  5.43820000e+04   8.36200000e+03]\n",
      " [  3.72570000e+05   5.73140000e+04]\n",
      " [  2.55346300e+06   3.92836000e+05]\n",
      " [  1.75015260e+07   2.69253800e+06]\n",
      " [  1.19957074e+08   1.84549300e+07]\n",
      " [  8.22197847e+08   1.26491972e+08]\n",
      " [  2.56300000e+03   1.78000000e+02]\n",
      " [  1.73970000e+04   1.22000000e+03]\n",
      " [  1.19071000e+05   8.36200000e+03]\n",
      " [  8.15955000e+05   5.73140000e+04]\n",
      " [  5.59246900e+06   3.92836000e+05]\n",
      " [  3.83311830e+07   2.69253800e+06]\n",
      " [  2.62725667e+08   1.84549300e+07]\n",
      " [  6.07000000e+02   2.60000000e+01]\n",
      " [  3.98700000e+03   1.78000000e+02]\n",
      " [  2.71570000e+04   1.22000000e+03]\n",
      " [  1.85967000e+05   8.36200000e+03]\n",
      " [  1.27446700e+06   5.73140000e+04]\n",
      " [  8.73515700e+06   3.92836000e+05]\n",
      " [  5.98714870e+07   2.69253800e+06]]\n",
      "[4e-06, 2.1e-05, 0.000148, 0.000984, 0.006737, 0.045374, 0.311624, 1e-06, 5e-06, 3.3e-05, 0.000222, 0.001541, 0.010506, 0.072498, 1e-06, 2e-06, 1e-05, 4.5e-05, 0.000321, 0.002147, 0.014454]\n",
      "[  1.88912143e-10   1.23560350e-09]\n"
     ]
    }
   ],
   "source": [
    "for i,v in enumerate(I):\n",
    "    I[i] = float(v)\n",
    "for i,v in enumerate(F):\n",
    "    F[i] = float(v)\n",
    "for i,v in enumerate(T):\n",
    "    T[i] = float(v)\n",
    "    \n",
    "    \n",
    "x = [I,F]\n",
    "X = np.column_stack(x)\n",
    "print X\n",
    "beta_hat = np.linalg.lstsq(X,T)[0]\n",
    "print T\n",
    "print beta_hat"
   ]
  },
  {
   "cell_type": "code",
   "execution_count": 58,
   "metadata": {
    "collapsed": false
   },
   "outputs": [
    {
     "name": "stdout",
     "output_type": "stream",
     "text": [
      "[  3.01098802e-06   2.06055366e-05   1.41200376e-04   9.67769705e-04\n",
      "   6.63316017e-03   4.54643241e-02   3.11617081e-01   7.04119246e-07\n",
      "   4.79394083e-06   3.28260743e-05   2.24961187e-04   1.54187484e-03\n",
      "   1.05681353e-02   7.24350449e-02   1.46795362e-07   9.73130138e-07\n",
      "   6.63772334e-06   4.54635410e-05   3.11579671e-04   2.13556677e-03\n",
      "   1.46373603e-02]\n"
     ]
    },
    {
     "data": {
      "text/plain": [
       "[<matplotlib.lines.Line2D at 0x113b81cd0>]"
      ]
     },
     "execution_count": 58,
     "metadata": {},
     "output_type": "execute_result"
    },
    {
     "data": {
      "image/png": "[encoded data removed]",
      "text/plain": [
       "<matplotlib.figure.Figure at 0x10ebf3750>"
      ]
     },
     "metadata": {},
     "output_type": "display_data"
    }
   ],
   "source": [
    "preds = np.dot(X,beta_hat)\n",
    "print preds\n",
    "plt.plot(preds)\n",
    "plt.plot(T)"
   ]
  }
 ],
 "metadata": {
  "kernelspec": {
   "display_name": "Python 2",
   "language": "python",
   "name": "python2"
  },
  "language_info": {
   "codemirror_mode": {
    "name": "ipython",
    "version": 2
   },
   "file_extension": ".py",
   "mimetype": "text/x-python",
   "name": "python",
   "nbconvert_exporter": "python",
   "pygments_lexer": "ipython2",
   "version": "2.7.11"
  }
 },
 "nbformat": 4,
 "nbformat_minor": 0
}
